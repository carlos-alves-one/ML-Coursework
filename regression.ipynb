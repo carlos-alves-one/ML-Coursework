{
 "cells": [
  {
   "attachments": {},
   "cell_type": "markdown",
   "metadata": {},
   "source": [
    "### Goldsmiths University of London\n",
    "### Authors...: Sandor Kanda (skand001) + Carlos Alves (cdeol003)\n",
    "### Created...: 13/02/2023"
   ]
  },
  {
   "attachments": {},
   "cell_type": "markdown",
   "metadata": {},
   "source": [
    "## The Task:\n",
    "\n",
    "The task is based on an energy efficiency prediction problem which is a regression problem. \n",
    "More specifically, you are required to perform an analysis using different building shapes, \n",
    "with different characteristics, and predict the heating load of the building. \n",
    "The buildings differ with respect to the glazing area, the glazing area distribution, the \n",
    "orientation, and other aspects comprised in the dataset.\n",
    "The dataset (below) for this task includes 9 features, denoted by X0, X1, ..., X8, and an \n",
    "outcome variable Y which needs to be predicted. \n",
    "\n",
    "#### The dataset contains missing values. Here is the meaning of the 10 variables:\n",
    "\n",
    "X0: Category of the building\n",
    "X1: Relative Compactness\n",
    "X2: Surface Area\n",
    "X3: Wall Area\n",
    "X4: Roof Area\n",
    "X5: Overall Height\n",
    "X6: Orientation\n",
    "X7: Glazing Area\n",
    "X8: Glazing Area Distribution\n",
    "\n",
    "Y: Heating Load\n",
    "\n",
    "#### You are required to perform this analysis comprising: \n",
    "#### 1. Data inspection and visualisation, \n",
    "#### 2. Data preprocessing including data splitting in 70% training data, and 30% test data, \n",
    "#### 3. Data transformations you consider useful for this task, \n",
    "#### 3.1. Treatment of missing values, \n",
    "#### 3.2. Feature selection if you consider it useful for helping you achieve a better performance, etc. \n",
    "\n",
    "#### The analysis should include developing the predictive models based on the following algorithms already studied in this module, or that are going to be studied such as neural networks: \n",
    "#### 1. Simple Linear Regression, \n",
    "#### 2. Ridge Regression, \n",
    "#### 3. Lasso Regression, \n",
    "#### 4. Elastic Net Regression, \n",
    "#### 5. Polynomial Regression with regularisation, \n",
    "#### 6. Neural Network. \n",
    "\n",
    "#### These models (except simple Linear Regression which needs only to be simply trained) will be:\n",
    "#### 1. Tuned using the training set. \n",
    "#### 2. The training set will be used to select the best 2 models. \n",
    "#### 3. Only these 2 best models will be evaluated on the test set. \n",
    "\n",
    "#### The code, comments and explanations will be provided in a Python Jupyter notebook, which should include also the results of running your notebook."
   ]
  },
  {
   "cell_type": "code",
   "execution_count": 1,
   "metadata": {},
   "outputs": [],
   "source": [
    "# Import relevant libraries for the project\n",
    "import pandas as pd\n",
    "import numpy as np\n",
    "import matplotlib.pyplot as plt"
   ]
  },
  {
   "cell_type": "code",
   "execution_count": null,
   "metadata": {},
   "outputs": [],
   "source": [
    "# Import the dataset for the project\n",
    "dataset = pd.read_csv('datcw_na.csv')"
   ]
  }
 ],
 "metadata": {
  "kernelspec": {
   "display_name": "Python 3",
   "language": "python",
   "name": "python3"
  },
  "language_info": {
   "codemirror_mode": {
    "name": "ipython",
    "version": 3
   },
   "file_extension": ".py",
   "mimetype": "text/x-python",
   "name": "python",
   "nbconvert_exporter": "python",
   "pygments_lexer": "ipython3",
   "version": "3.9.13"
  },
  "orig_nbformat": 4,
  "vscode": {
   "interpreter": {
    "hash": "45d680b53dd59098257682a39d3543fddeca95e541b2c6ea1b49c6cd756418f3"
   }
  }
 },
 "nbformat": 4,
 "nbformat_minor": 2
}
